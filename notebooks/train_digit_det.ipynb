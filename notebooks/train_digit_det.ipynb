{
 "cells": [
  {
   "attachments": {},
   "cell_type": "markdown",
   "metadata": {},
   "source": [
    "# Digit Detection Model - Training"
   ]
  },
  {
   "cell_type": "code",
   "execution_count": null,
   "metadata": {},
   "outputs": [],
   "source": [
    "# Imports\n",
    "from ultralytics import YOLO\n",
    "from datetime import datetime\n",
    "import shutil\n",
    "import os"
   ]
  },
  {
   "attachments": {},
   "cell_type": "markdown",
   "metadata": {},
   "source": [
    "### Training\n",
    "\n",
    "`batch` size, `device`, and `workers` should be selected based on the capability of the device run on. "
   ]
  },
  {
   "cell_type": "code",
   "execution_count": null,
   "metadata": {},
   "outputs": [],
   "source": [
    "# load pre-trained model\n",
    "model = YOLO(\"../tmp/yolov8m.pt\") # downloads yolov8m.pt\n",
    "\n",
    "# train\n",
    "model.train(data=\"digits_with_labels_cfg.yaml\",\n",
    "            batch=16,\n",
    "            imgsz=320,\n",
    "            workers=128,\n",
    "            device=0,\n",
    "            epochs=100,\n",
    "            project=\"../tmp/train_digit\"\n",
    "            )"
   ]
  },
  {
   "cell_type": "code",
   "execution_count": null,
   "metadata": {},
   "outputs": [],
   "source": [
    "metrics = model.val()  # evaluate model performance on the validation set"
   ]
  },
  {
   "cell_type": "code",
   "execution_count": null,
   "metadata": {},
   "outputs": [],
   "source": [
    "# move best.pt to /outputs\n",
    "\n",
    "source_file = '../tmp/train_digit/train/weights/best.pt'\n",
    "destination_folder = '../outputs/'\n",
    "new_file_name = f\"\"\"{datetime.now().strftime(\"%Y%m%d\")}_digit.pt\"\"\"\n",
    "\n",
    "if not os.path.exists(destination_folder):\n",
    "    os.makedirs(destination_folder)\n",
    "\n",
    "# Move the file and rename it\n",
    "shutil.copy(source_file, destination_folder + new_file_name)\n",
    "shutil.copy(source_file, destination_folder + \"digit.pt\")"
   ]
  }
 ],
 "metadata": {
  "kernelspec": {
   "display_name": "icbc",
   "language": "python",
   "name": "python3"
  },
  "language_info": {
   "codemirror_mode": {
    "name": "ipython",
    "version": 3
   },
   "file_extension": ".py",
   "mimetype": "text/x-python",
   "name": "python",
   "nbconvert_exporter": "python",
   "pygments_lexer": "ipython3",
   "version": "3.10.11"
  },
  "orig_nbformat": 4
 },
 "nbformat": 4,
 "nbformat_minor": 2
}
