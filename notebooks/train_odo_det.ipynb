{
 "cells": [
  {
   "attachments": {},
   "cell_type": "markdown",
   "metadata": {},
   "source": [
    "# Odometer Detection Model - Training"
   ]
  },
  {
   "cell_type": "code",
   "execution_count": 5,
   "metadata": {},
   "outputs": [],
   "source": [
    "# Imports\n",
    "from ultralytics import YOLO\n",
    "from datetime import datetime\n",
    "import shutil\n",
    "import os"
   ]
  },
  {
   "attachments": {},
   "cell_type": "markdown",
   "metadata": {},
   "source": [
    "### Training\n",
    "\n",
    "`batch` size, `device`, and `workers` should be selected based on the capability of the device run on. "
   ]
  },
  {
   "cell_type": "code",
   "execution_count": 2,
   "metadata": {},
   "outputs": [
    {
     "name": "stderr",
     "output_type": "stream",
     "text": [
      "New https://pypi.org/project/ultralytics/8.0.123 available 😃 Update with 'pip install -U ultralytics'\n",
      "Ultralytics YOLOv8.0.117 🚀 Python-3.10.11 torch-2.0.0 MPS\n",
      "\u001b[34m\u001b[1myolo/engine/trainer: \u001b[0mtask=detect, mode=train, model=../tmp/yolov8m.pt, data=data.yaml, epochs=1, patience=50, batch=4, imgsz=640, save=True, save_period=-1, cache=False, device=mps, workers=3, project=../tmp/train_odo, name=None, exist_ok=False, pretrained=False, optimizer=auto, verbose=True, seed=0, deterministic=True, single_cls=False, rect=False, cos_lr=False, close_mosaic=0, resume=False, amp=True, fraction=1.0, profile=False, overlap_mask=True, mask_ratio=4, dropout=0.0, val=True, split=val, save_json=False, save_hybrid=False, conf=None, iou=0.7, max_det=300, half=False, dnn=False, plots=True, source=None, show=False, save_txt=False, save_conf=False, save_crop=False, show_labels=True, show_conf=True, vid_stride=1, line_width=None, visualize=False, augment=False, agnostic_nms=False, classes=None, retina_masks=False, boxes=True, format=torchscript, keras=False, optimize=False, int8=False, dynamic=False, simplify=False, opset=None, workspace=4, nms=False, lr0=0.01, lrf=0.01, momentum=0.937, weight_decay=0.0005, warmup_epochs=3.0, warmup_momentum=0.8, warmup_bias_lr=0.1, box=7.5, cls=0.5, dfl=1.5, pose=12.0, kobj=1.0, label_smoothing=0.0, nbs=64, hsv_h=0.015, hsv_s=0.7, hsv_v=0.4, degrees=0.0, translate=0.1, scale=0.5, shear=0.0, perspective=0.0, flipud=0.0, fliplr=0, mosaic=0, mixup=0.0, copy_paste=0.0, cfg=None, v5loader=False, tracker=botsort.yaml, save_dir=../tmp/train_odo/train\n",
      "\n",
      "                   from  n    params  module                                       arguments                     \n",
      "  0                  -1  1      1392  ultralytics.nn.modules.conv.Conv             [3, 48, 3, 2]                 \n",
      "  1                  -1  1     41664  ultralytics.nn.modules.conv.Conv             [48, 96, 3, 2]                \n",
      "  2                  -1  2    111360  ultralytics.nn.modules.block.C2f             [96, 96, 2, True]             \n",
      "  3                  -1  1    166272  ultralytics.nn.modules.conv.Conv             [96, 192, 3, 2]               \n",
      "  4                  -1  4    813312  ultralytics.nn.modules.block.C2f             [192, 192, 4, True]           \n",
      "  5                  -1  1    664320  ultralytics.nn.modules.conv.Conv             [192, 384, 3, 2]              \n",
      "  6                  -1  4   3248640  ultralytics.nn.modules.block.C2f             [384, 384, 4, True]           \n",
      "  7                  -1  1   1991808  ultralytics.nn.modules.conv.Conv             [384, 576, 3, 2]              \n",
      "  8                  -1  2   3985920  ultralytics.nn.modules.block.C2f             [576, 576, 2, True]           \n",
      "  9                  -1  1    831168  ultralytics.nn.modules.block.SPPF            [576, 576, 5]                 \n",
      " 10                  -1  1         0  torch.nn.modules.upsampling.Upsample         [None, 2, 'nearest']          \n",
      " 11             [-1, 6]  1         0  ultralytics.nn.modules.conv.Concat           [1]                           \n",
      " 12                  -1  2   1993728  ultralytics.nn.modules.block.C2f             [960, 384, 2]                 \n",
      " 13                  -1  1         0  torch.nn.modules.upsampling.Upsample         [None, 2, 'nearest']          \n",
      " 14             [-1, 4]  1         0  ultralytics.nn.modules.conv.Concat           [1]                           \n",
      " 15                  -1  2    517632  ultralytics.nn.modules.block.C2f             [576, 192, 2]                 \n",
      " 16                  -1  1    332160  ultralytics.nn.modules.conv.Conv             [192, 192, 3, 2]              \n",
      " 17            [-1, 12]  1         0  ultralytics.nn.modules.conv.Concat           [1]                           \n",
      " 18                  -1  2   1846272  ultralytics.nn.modules.block.C2f             [576, 384, 2]                 \n",
      " 19                  -1  1   1327872  ultralytics.nn.modules.conv.Conv             [384, 384, 3, 2]              \n",
      " 20             [-1, 9]  1         0  ultralytics.nn.modules.conv.Concat           [1]                           \n",
      " 21                  -1  2   4207104  ultralytics.nn.modules.block.C2f             [960, 576, 2]                 \n",
      " 22        [15, 18, 21]  1   3822016  ultralytics.nn.modules.head.Detect           [80, [192, 384, 576]]         \n",
      "Model summary: 295 layers, 25902640 parameters, 25902624 gradients\n",
      "\n",
      "Transferred 475/475 items from pretrained weights\n",
      "\u001b[34m\u001b[1mtrain: \u001b[0mScanning /Users/roanraina/LOCAL/ICBC-Odometer-Recognition/datasets/coco128/labels/train2017.cache... 126 images, 2 backgrounds, 0 corrupt: 100%|██████████| 128/128 [00:00<?, ?it/s]\n",
      "\u001b[34m\u001b[1mval: \u001b[0mScanning /Users/roanraina/LOCAL/ICBC-Odometer-Recognition/datasets/coco128/labels/train2017.cache... 126 images, 2 backgrounds, 0 corrupt: 100%|██████████| 128/128 [00:00<?, ?it/s]\n",
      "Plotting labels to ../tmp/train_odo/train/labels.jpg... \n",
      "\u001b[34m\u001b[1moptimizer:\u001b[0m AdamW(lr=0.000119, momentum=0.9) with parameter groups 77 weight(decay=0.0), 84 weight(decay=0.0005), 83 bias(decay=0.0)\n",
      "Image sizes 640 train, 640 val\n",
      "Using 3 dataloader workers\n",
      "Logging results to \u001b[1m../tmp/train_odo/train\u001b[0m\n",
      "Starting training for 1 epochs...\n",
      "\n",
      "      Epoch    GPU_mem   box_loss   cls_loss   dfl_loss  Instances       Size\n",
      "        1/1         0G      1.146      4.728      1.084         10        640: 100%|██████████| 32/32 [00:45<00:00,  1.41s/it]\n",
      "                 Class     Images  Instances      Box(P          R      mAP50  mAP50-95): 100%|██████████| 16/16 [01:50<00:00,  6.91s/it]\n",
      "                   all        128        929      0.726      0.723      0.783      0.601\n",
      "\n",
      "1 epochs completed in 0.045 hours.\n",
      "Optimizer stripped from ../tmp/train_odo/train/weights/last.pt, 52.1MB\n",
      "Optimizer stripped from ../tmp/train_odo/train/weights/best.pt, 52.1MB\n",
      "\n",
      "Validating ../tmp/train_odo/train/weights/best.pt...\n",
      "Ultralytics YOLOv8.0.117 🚀 Python-3.10.11 torch-2.0.0 MPS\n",
      "Model summary (fused): 218 layers, 25886080 parameters, 0 gradients\n",
      "                 Class     Images  Instances      Box(P          R      mAP50  mAP50-95): 100%|██████████| 16/16 [00:48<00:00,  3.04s/it]\n",
      "                   all        128        929      0.727      0.724      0.783        0.6\n",
      "                person        128        254      0.852      0.795      0.852      0.634\n",
      "               bicycle        128          6       0.78      0.667      0.717      0.551\n",
      "                   car        128         46      0.769      0.579      0.619      0.317\n",
      "            motorcycle        128          5      0.786          1      0.962      0.792\n",
      "              airplane        128          6      0.804          1      0.995      0.922\n",
      "                   bus        128          7      0.829      0.695      0.833      0.713\n",
      "                 train        128          3      0.817          1      0.995      0.912\n",
      "                 truck        128         12      0.649      0.465      0.605      0.357\n",
      "                  boat        128          6          1      0.658      0.707      0.576\n",
      "         traffic light        128         14      0.844      0.391       0.47      0.269\n",
      "             stop sign        128          2      0.723          1      0.995      0.895\n",
      "                 bench        128          9       0.87      0.744      0.862      0.527\n",
      "                  bird        128         16          1      0.931      0.991      0.643\n",
      "                   cat        128          4      0.818          1      0.995      0.901\n",
      "                   dog        128          9      0.769      0.889      0.961      0.803\n",
      "                 horse        128          2      0.661          1      0.995      0.698\n",
      "              elephant        128         17      0.906      0.941      0.946       0.81\n",
      "                  bear        128          1      0.619          1      0.995      0.796\n",
      "                 zebra        128          4      0.934          1      0.995      0.995\n",
      "               giraffe        128          9      0.907          1      0.995      0.751\n",
      "              backpack        128          6      0.486        0.5      0.702       0.45\n",
      "              umbrella        128         18      0.834          1      0.946      0.634\n",
      "               handbag        128         19      0.632      0.273      0.459      0.314\n",
      "                   tie        128          7      0.731      0.781        0.8      0.611\n",
      "              suitcase        128          4      0.844          1      0.995      0.607\n",
      "               frisbee        128          5      0.738        0.8      0.808      0.729\n",
      "                  skis        128          1      0.301          1      0.995      0.895\n",
      "             snowboard        128          7       0.59      0.857      0.839      0.673\n",
      "           sports ball        128          6      0.556      0.667      0.667      0.409\n",
      "                  kite        128         10      0.612        0.4      0.547      0.155\n",
      "          baseball bat        128          4      0.157      0.282      0.227      0.181\n",
      "        baseball glove        128          7      0.565      0.429        0.4      0.253\n",
      "            skateboard        128          5      0.738      0.571      0.786      0.475\n",
      "         tennis racket        128          7      0.884      0.714      0.721      0.421\n",
      "                bottle        128         18      0.609      0.778      0.695       0.44\n",
      "            wine glass        128         16      0.649        0.5      0.797       0.52\n",
      "                   cup        128         36      0.871      0.806      0.845      0.555\n",
      "                  fork        128          6      0.719      0.438      0.632      0.389\n",
      "                 knife        128         16      0.921      0.734      0.854      0.592\n",
      "                 spoon        128         22      0.826      0.648      0.744      0.562\n",
      "                  bowl        128         28      0.896      0.618      0.727      0.637\n",
      "                banana        128          1       0.54          1      0.995      0.995\n",
      "              sandwich        128          2      0.866          1      0.995      0.995\n",
      "                orange        128          4      0.679      0.536      0.895      0.697\n",
      "              broccoli        128         11      0.487      0.182      0.315      0.246\n",
      "                carrot        128         24      0.622      0.667      0.646      0.445\n",
      "               hot dog        128          2      0.587          1      0.828      0.828\n",
      "                 pizza        128          5      0.706          1      0.962       0.77\n",
      "                 donut        128         14      0.814          1      0.986      0.898\n",
      "                  cake        128          4      0.795          1      0.995      0.829\n",
      "                 chair        128         35      0.603      0.714      0.688      0.451\n",
      "                 couch        128          6      0.821      0.771      0.927       0.71\n",
      "          potted plant        128         14      0.907        0.7      0.856      0.606\n",
      "                   bed        128          3          1      0.901      0.995      0.669\n",
      "          dining table        128         13      0.616      0.692      0.716      0.569\n",
      "                toilet        128          2      0.738          1      0.995      0.995\n",
      "                    tv        128          2       0.49          1      0.995      0.895\n",
      "                laptop        128          3      0.421       0.28      0.493      0.457\n",
      "                 mouse        128          2          1          0      0.497      0.151\n",
      "                remote        128          8      0.889      0.625      0.717       0.61\n",
      "            cell phone        128          8      0.615      0.625       0.54      0.363\n",
      "             microwave        128          3      0.611          1      0.995      0.768\n",
      "                  oven        128          5       0.36        0.4       0.44      0.267\n",
      "                  sink        128          6       0.47        0.5      0.487      0.285\n",
      "          refrigerator        128          5      0.657        0.8      0.699      0.522\n",
      "                  book        128         29      0.601      0.157      0.456      0.261\n",
      "                 clock        128          9        0.8      0.891      0.963      0.733\n",
      "                  vase        128          2      0.691          1      0.995      0.921\n",
      "              scissors        128          1          1          0      0.124     0.0249\n",
      "            teddy bear        128         21      0.759       0.45      0.712      0.487\n",
      "            toothbrush        128          5          1      0.945      0.995      0.782\n",
      "Speed: 13.4ms preprocess, 117.1ms inference, 0.0ms loss, 9.0ms postprocess per image\n",
      "Results saved to \u001b[1m../tmp/train_odo/train\u001b[0m\n"
     ]
    }
   ],
   "source": [
    "# load pre-trained model\n",
    "model = YOLO(\"../tmp/yolov8m.pt\") # downloads yolov8m.pt\n",
    "\n",
    "# train\n",
    "model.train(data=\"icbc_labelled_cfg.yaml\",\n",
    "            batch=16,\n",
    "            imgsz=1280,\n",
    "            workers=128,\n",
    "            device=0,\n",
    "            epochs=100,\n",
    "            project=\"../tmp/train_odo\"\n",
    "            )"
   ]
  },
  {
   "cell_type": "code",
   "execution_count": null,
   "metadata": {},
   "outputs": [],
   "source": [
    "metrics = model.val()  # evaluate model performance on the validation set"
   ]
  },
  {
   "cell_type": "code",
   "execution_count": 8,
   "metadata": {},
   "outputs": [
    {
     "data": {
      "text/plain": [
       "'../outputs/odo.pt'"
      ]
     },
     "execution_count": 8,
     "metadata": {},
     "output_type": "execute_result"
    }
   ],
   "source": [
    "# move best.pt to /outputs\n",
    "\n",
    "source_file = '../tmp/train_odo/train/weights/best.pt'\n",
    "destination_folder = '../outputs/'\n",
    "new_file_name = f\"\"\"{datetime.now().strftime(\"%Y%m%d\")}_odo.pt\"\"\"\n",
    "\n",
    "if not os.path.exists(destination_folder):\n",
    "    os.makedirs(destination_folder)\n",
    "\n",
    "# Move the file and rename it\n",
    "shutil.copy(source_file, destination_folder + new_file_name)\n",
    "shutil.copy(source_file, destination_folder + \"odo.pt\")"
   ]
  }
 ],
 "metadata": {
  "kernelspec": {
   "display_name": "icbc",
   "language": "python",
   "name": "python3"
  },
  "language_info": {
   "codemirror_mode": {
    "name": "ipython",
    "version": 3
   },
   "file_extension": ".py",
   "mimetype": "text/x-python",
   "name": "python",
   "nbconvert_exporter": "python",
   "pygments_lexer": "ipython3",
   "version": "3.10.11"
  },
  "orig_nbformat": 4
 },
 "nbformat": 4,
 "nbformat_minor": 2
}
